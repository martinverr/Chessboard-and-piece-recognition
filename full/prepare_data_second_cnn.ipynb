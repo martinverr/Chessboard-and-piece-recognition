{
 "cells": [
  {
   "cell_type": "markdown",
   "metadata": {},
   "source": [
    "# Script prepare data piece classification\n",
    "Script to create training image data for the CNN that classifies an image containing a piece.\n",
    "\n",
    "For each piece bounding box:\n",
    "- Image named as \"<dataset image no.>_<square coord>.png\"\n",
    "- Text file \"<dataset image no.>_<square coord>.txt\" containing the true label"
   ]
  },
  {
   "cell_type": "code",
   "execution_count": 5,
   "metadata": {},
   "outputs": [],
   "source": [
    "import os, glob\n",
    "import cv2\n",
    "from FEN import FEN\n",
    "from chessboard_detection import *"
   ]
  },
  {
   "cell_type": "markdown",
   "metadata": {},
   "source": [
    "input_img_path: Change path according to where you have the dataset folder, default input dir\n",
    "\n",
    "Regex:\n",
    "- path/1** : start with '1' (1000 to 1999)\n",
    "- path/** : all\n",
    "\n",
    "dst_dir_path: Change path according to where you prefer having the output\n",
    "\n",
    "rewrite: Set 'True' to rewrite old already processed images found in the output dir "
   ]
  },
  {
   "cell_type": "code",
   "execution_count": 13,
   "metadata": {},
   "outputs": [],
   "source": [
    "input_img_path = './../input/**'\n",
    "dst_dir_path = './../output/training_pieces/'\n",
    "rewrite = False"
   ]
  },
  {
   "cell_type": "code",
   "execution_count": 15,
   "metadata": {},
   "outputs": [],
   "source": [
    "if not os.path.exists(dst_dir_path):\n",
    "    os.mkdir(dst_dir_path)\n",
    "\n",
    "to_be_processed = glob.glob(input_img_path)\n",
    "already_processed = []\n",
    "if not rewrite:\n",
    "    already_processed = glob.glob(f'{dst_dir_path}**')\n",
    "    already_processed = list(set([os.path.splitext(filename)[0].split('\\\\')[-1].split('_')[0] for filename in already_processed]))"
   ]
  },
  {
   "cell_type": "code",
   "execution_count": 12,
   "metadata": {},
   "outputs": [
    {
     "name": "stdout",
     "output_type": "stream",
     "text": [
      "./../input\\0000.png... Done\n",
      "./../input\\0001.png... Done\n",
      "########################### progress: 12.5% ###########################\n",
      "\n",
      "./../input\\0024.png... Done\n",
      "./../input\\0026.png... Done\n",
      "########################### progress: 25.0% ###########################\n",
      "\n",
      "./../input\\0039.png... Not enough lines found, provide a better image\n",
      "Skipped\n",
      "./../input\\0060.png... Done\n",
      "########################### progress: 37.5% ###########################\n",
      "\n",
      "./../input\\0081.png... Not enough lines found, provide a better image\n",
      "Skipped\n",
      "./../input\\0132.png... Done\n",
      "########################### progress: 50.0% ###########################\n",
      "\n",
      "./../input\\0192.png... Done\n",
      "./../input\\0195.png... Not enough lines found, provide a better image\n",
      "Skipped\n",
      "########################### progress: 62.5% ###########################\n",
      "\n",
      "./../input\\0206.png... Done\n",
      "./../input\\0231.png... Done\n",
      "########################### progress: 75.0% ###########################\n",
      "\n",
      "./../input\\0280.png... Done\n",
      "./../input\\0292.png... Done\n",
      "########################### progress: 87.5% ###########################\n",
      "\n",
      "./../input\\0317.png... Not enough lines found, provide a better image\n",
      "Skipped\n",
      "./../input\\0347.png... Done\n"
     ]
    }
   ],
   "source": [
    "num_of_to_be_processed = len(to_be_processed)//2\n",
    "num_of_already_processed = 0\n",
    "last_progress_percentage_shown = 0\n",
    "\n",
    "for in_process in to_be_processed:\n",
    "    imgnumber = os.path.splitext(in_process)[0].split('\\\\')[-1]\n",
    "\n",
    "    #percentage update\n",
    "    progress_percentage = num_of_already_processed / num_of_to_be_processed * 100\n",
    "    if progress_percentage - last_progress_percentage_shown > 10:\n",
    "        last_progress_percentage_shown = progress_percentage\n",
    "        print(f\"########################### progress: {progress_percentage}% ###########################\\n\")\n",
    "\n",
    "    # skip if not a file image, if json does not exists, if already present in output\n",
    "    if not os.path.isfile(in_process):\n",
    "        continue\n",
    "    if not in_process.lower().endswith(\".png\"):\n",
    "        continue\n",
    "    print(f\"{in_process}...\", end=' ')\n",
    "    if not os.path.isfile(os.path.splitext(in_process)[0] + '.json'):\n",
    "        print(f\"Not found related json({in_process})\")\n",
    "        continue\n",
    "    if imgnumber in already_processed:\n",
    "        num_of_already_processed += 1\n",
    "        print(f\"Already processed, skipped({in_process})\")\n",
    "        continue\n",
    "    \n",
    "    # load FEN true label\n",
    "    truth = FEN(os.path.splitext(in_process)[0])\n",
    "    true_fen, true_pos, viewpoint = truth.fen, truth.pieces, truth.view\n",
    "    \n",
    "    try:\n",
    "        # First pass preprocessing\n",
    "        warpedBoardImg = board_detection(in_process, \n",
    "                                            f\"{'output_' + imgnumber}\",\n",
    "                                            verbose_show=False, \n",
    "                                            verbose_output=False)\n",
    "        if warpedBoardImg is None:\n",
    "            num_of_already_processed += 1\n",
    "            print(\"Skipped\")\n",
    "            continue\n",
    "\n",
    "        #Second pass preprocessing\n",
    "        grid_squares = grid_detection(warpedBoardImg, viewpoint)\n",
    "        if grid_squares is None:\n",
    "            print(\"Skipped\")\n",
    "            num_of_already_processed += 1\n",
    "            continue\n",
    "        \n",
    "        # Extend the information to include piece information in 3rd col (image remain last in 4th col)\n",
    "        grid_squares = np.column_stack((grid_squares[:,:2], \n",
    "                                            [true_pos.get(coord, 'empty') for coord in grid_squares[:, 1]],\n",
    "                                            grid_squares[:,-2:]\n",
    "                                            ))\n",
    "        \n",
    "        for square_no, square_coord, piece, square_img, piece_img in grid_squares[:]:\n",
    "            if piece == 'empty':\n",
    "                continue\n",
    "            output_filename = f'{dst_dir_path}{imgnumber}_{square_coord}'\n",
    "            \n",
    "            # .png\n",
    "            cv2.imwrite(output_filename + '.png', piece_img)\n",
    "            \n",
    "            # .txt\n",
    "            with open(f'{output_filename}.txt', 'w') as f:\n",
    "                f.write(piece)\n",
    "            \n",
    "        print('Done')\n",
    "    \n",
    "    except:\n",
    "        output_filename = f'{dst_dir_path}{imgnumber}_error'\n",
    "        with open(f'{output_filename}.txt', 'w') as f:\n",
    "                f.write('Error somewhere')\n",
    "    num_of_already_processed += 1\n",
    "    "
   ]
  }
 ],
 "metadata": {
  "kernelspec": {
   "display_name": "ML",
   "language": "python",
   "name": "python3"
  },
  "language_info": {
   "codemirror_mode": {
    "name": "ipython",
    "version": 3
   },
   "file_extension": ".py",
   "mimetype": "text/x-python",
   "name": "python",
   "nbconvert_exporter": "python",
   "pygments_lexer": "ipython3",
   "version": "3.8.13"
  }
 },
 "nbformat": 4,
 "nbformat_minor": 2
}
